{
 "cells": [
  {
   "cell_type": "markdown",
   "id": "409f0f4a",
   "metadata": {},
   "source": [
    "**Ödev-1:** Kullanıcıdan maaş bilgisini istenir ve bu bilgiye göre maaşından ne kadar vergi kesileceğini hesaplanır. Kullanıcının geliri;\n",
    "\n",
    "1. 10000 ve altındaysa maaşından %5 kesinti olur.\n",
    "2. 25000 ve altındaysa maaşından %10 kesinti olur.\n",
    "3. 45000 ve altındaysa maaşından %25 kesinti olur.\n",
    "4. Diğer koşullarda %30 kesinti olur.\n",
    "\n",
    "Bu durumlara göre kullanıcının yeni maaşı yazdırılır."
   ]
  },
  {
   "cell_type": "code",
   "execution_count": 8,
   "id": "5246e510",
   "metadata": {},
   "outputs": [
    {
     "name": "stdout",
     "output_type": "stream",
     "text": [
      "Maaş bilginizi giriniz: 50000\n",
      "Maaşınıza %30 kesinti uygulanmıştır:  35000.0\n"
     ]
    }
   ],
   "source": [
    "while True: \n",
    "    islem = int(input(\"Maaş bilginizi giriniz: \"))\n",
    "    \n",
    "    if islem <=10000:\n",
    "        yuzde = islem*0.05\n",
    "        islem = islem-yuzde\n",
    "        print(\"Maaşınıza %5 kesinti uygulanmıştır.: \", islem)\n",
    "        \n",
    "    elif islem <=25000:\n",
    "        yuzde = islem*0.1\n",
    "        islem = islem-yuzde\n",
    "        print(\"Maaşınıza %10 kesinti uygulanmıştır.: \", islem)\n",
    "        \n",
    "    elif islem <=45000:\n",
    "        yuzde = islem*0.25\n",
    "        islem = islem-yuzde\n",
    "        print(\"Maaşınıza %25 kesinti uygulanmıştır.: \", islem)\n",
    "        \n",
    "    elif islem > 45000:\n",
    "        yuzde = islem*0.3\n",
    "        islem = islem-yuzde\n",
    "        print(\"Maaşınıza %30 kesinti uygulanmıştır: \", islem)\n",
    "    \n",
    "        break"
   ]
  },
  {
   "cell_type": "markdown",
   "id": "f5fe8798",
   "metadata": {},
   "source": [
    "**Ödev-2:** Kullanıcıdan kullanıcı adı ve şifre oluşturmasını istenir. Şifrenin uzunluğu altı haneye ulaşmışsa hesabınız oluşturuldu mesajı alınır, altı haneden azsa altı haneli şifre oluşturması gerektiğinin mesajı alınır. *(Sadece koşul kullanılması yeterli.)*"
   ]
  },
  {
   "cell_type": "code",
   "execution_count": 16,
   "id": "6acffe57",
   "metadata": {},
   "outputs": [
    {
     "name": "stdout",
     "output_type": "stream",
     "text": [
      "Kullanıcı adı oluşturunuz: ceyda\n",
      "Şifre oluşturunuz: 15245\n",
      "Altı haneden az şifre oluşturamazsınız.\n"
     ]
    }
   ],
   "source": [
    "\n",
    "while True: \n",
    "    kullanici_adi = str(input(\"Kullanıcı adı oluşturunuz: \"))\n",
    "    sifre = str(input(\"Şifre oluşturunuz: \"))\n",
    "    a = len(sifre)\n",
    "    \n",
    "    if a >= 6 :\n",
    "        print(\"Hesabınız Oluşturuldu.\")\n",
    "        \n",
    "    elif a < 6 :\n",
    "        print(\"Altı haneden az şifre oluşturamazsınız.\")\n",
    "        \n",
    "        break\n",
    "    \n"
   ]
  },
  {
   "cell_type": "markdown",
   "id": "aaccf11a",
   "metadata": {},
   "source": [
    "**Ödev-3:** Bir önceki örnek geliştirilir.\n",
    "\n",
    "1. Kullanıcı girdiği şifre 5 ve 10 hane arasında olmak zorunda.\n",
    "2. Eğer bu koşula uyuyorsa \"Hesabınız oluşturuldu.\" mesajı alır.\n",
    "3. Koşulu sağlamıyorsa \"Lütfen girdiniz şifre 5 haneden az 10 haneden fazla olmasın!\" uyarısı alır.\n",
    "4. Bunu oluştururken kullanıcı istediğimiz şartlarda şifre oluşturana kadar sormaya devam eder"
   ]
  },
  {
   "cell_type": "code",
   "execution_count": 36,
   "id": "039e50dc",
   "metadata": {},
   "outputs": [
    {
     "name": "stdout",
     "output_type": "stream",
     "text": [
      "Kullanıcı adı oluşturunuz: ceyda\n",
      "Şifre oluşturunuz: 56899564892\n",
      "Lütfen girdiğiniz şifre 5 haneden az 10 haneden fazla olmasın!\n",
      "Şifre oluşturunuz: 1234567891\n",
      "Hesabınız oluşturuldu.\n"
     ]
    }
   ],
   "source": [
    "kullanici_adi = str(input(\"Kullanıcı adı oluşturunuz: \"))\n",
    "\n",
    "while True:\n",
    "    sifre = str(input(\"Şifre oluşturunuz: \"))\n",
    "    a = len(sifre)\n",
    "    \n",
    "    if 5<= a <= 10 :\n",
    "        print(\"Hesabınız oluşturuldu.\")\n",
    "        break\n",
    "    elif a < 5 :\n",
    "        print(\"Lütfen girdiğiniz şifre 5 haneden az 10 haneden fazla olmasın!\")\n",
    "        pass\n",
    "    elif a > 10 :\n",
    "        print(\"Lütfen girdiğiniz şifre 5 haneden az 10 haneden fazla olmasın!\")\n",
    "        pass\n",
    "\n",
    "        \n",
    "       \n",
    "        \n",
    "      "
   ]
  },
  {
   "cell_type": "markdown",
   "id": "8ba81863",
   "metadata": {},
   "source": [
    "**Ödev-4:** Kullanıcıdan isim ve şifre isteyeceğiz ve şifre girişi için üç hak verilir.\n",
    "\n",
    "1. Eğer önceden tanımlı şifre ile kullanıcıdan gelen şifre aynıysa \"Giriş yapıldı.\" yazar.\n",
    "2. Şifre girişi yanlışsa \"Yanlış şifre girildi!\" uyarısı verilsin ve üç yanlış denemede program biter.\n",
    "3. Tercihe göre kalan hak bilgisi verilir."
   ]
  },
  {
   "cell_type": "code",
   "execution_count": 55,
   "id": "8f45ea0c",
   "metadata": {},
   "outputs": [
    {
     "name": "stdout",
     "output_type": "stream",
     "text": [
      "Kullanıcı adı oluşturunuz: ceyda\n",
      "Şifrenizi giriniz: 5461\n",
      "Yanlış şifre girildi! Kalan hakkınız:  2\n",
      "Tekrar deneyiniz: ceyda123\n",
      "GİRİŞ YAPILDI.\n"
     ]
    }
   ],
   "source": [
    "sifre = \"ceyda123\"\n",
    "\n",
    "kullanici_adi = str(input(\"Kullanıcı adı oluşturunuz: \"))\n",
    "giris = str(input(\"Şifrenizi giriniz: \"))\n",
    "\n",
    "hak = 3\n",
    "while hak > 0:\n",
    "   \n",
    "    if giris == sifre :\n",
    "        print(\"GİRİŞ YAPILDI.\")\n",
    "        break\n",
    "    else :  \n",
    "        hak -= 1\n",
    "        if hak == 0 :\n",
    "            print(\"Üzgünüz, 3 yanlış giriş denemesi yaptınız. Program sonlandırılıyor.\")\n",
    "            break\n",
    "        else:\n",
    "            print(\"Yanlış şifre girildi! Kalan hakkınız: \",hak)\n",
    "            giris = str(input(\"Tekrar deneyiniz: \"))\n",
    "        \n",
    "    \n",
    "   \n",
    "    "
   ]
  }
 ],
 "metadata": {
  "kernelspec": {
   "display_name": "Python 3",
   "language": "python",
   "name": "python3"
  },
  "language_info": {
   "codemirror_mode": {
    "name": "ipython",
    "version": 3
   },
   "file_extension": ".py",
   "mimetype": "text/x-python",
   "name": "python",
   "nbconvert_exporter": "python",
   "pygments_lexer": "ipython3",
   "version": "3.8.8"
  }
 },
 "nbformat": 4,
 "nbformat_minor": 5
}
