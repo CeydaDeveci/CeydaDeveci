{
 "cells": [
  {
   "cell_type": "markdown",
   "metadata": {},
   "source": [
    "#### Ödev 1\n",
    "Kullanıcıdan pi değeri ve yarıçap bilgisi alarak dairenin alanını hesaplayan bir fonksiyon oluşturulur."
   ]
  },
  {
   "cell_type": "code",
   "execution_count": 4,
   "metadata": {
    "vscode": {
     "languageId": "plaintext"
    }
   },
   "outputs": [],
   "source": [
    "\n",
    "def daire_alani(pi_degeri , yaricap):\n",
    "    pi_degeri = int(input(\"Pi değerini giriniz: \"))\n",
    "    yaricap = int(input(\"Yarıçap değerini giriniz: \"))\n",
    "\n",
    "    alan = pi_degeri*(yaricap**2)\n",
    "    print(\" Yariçapı {} olan dairenin alanı {} \".format(yaricap,alan))\n",
    "    \n"
   ]
  },
  {
   "cell_type": "code",
   "execution_count": 12,
   "metadata": {},
   "outputs": [
    {
     "name": "stdout",
     "output_type": "stream",
     "text": [
      "Pi değerini giriniz: 2\n",
      "Yarıçap değerini giriniz: 3\n",
      " Yariçapı 3 olan dairenin alanı 18 \n"
     ]
    }
   ],
   "source": [
    "daire_alani(10,2)"
   ]
  },
  {
   "cell_type": "markdown",
   "metadata": {},
   "source": [
    "#### Ödev 2\n",
    "\n",
    "Faktöriyel adında fonksiyon oluşturulur. Döngü kullanarak parametre olarak girilen sayının faktöriyeli hesaplanır. Format metodunu kullanılarak ekrana yazdırılır."
   ]
  },
  {
   "cell_type": "code",
   "execution_count": 56,
   "metadata": {
    "vscode": {
     "languageId": "plaintext"
    }
   },
   "outputs": [
    {
     "name": "stdout",
     "output_type": "stream",
     "text": [
      "3 faktöriyel eşittir: 6\n"
     ]
    }
   ],
   "source": [
    "def faktoriyel(n):\n",
    "    #n 0 ve 1 olduğunda bunların faktöriyeli 1 olduğu için \n",
    "    if n == 0 or n == 1:\n",
    "        return 1\n",
    "    else:\n",
    "        return n * faktoriyel(n - 1)\n",
    "    \n",
    "    \n",
    "sayi = 3\n",
    "sonuc = faktoriyel(sayi)\n",
    "print(f\"{sayi} faktöriyel eşittir: {sonuc}\")"
   ]
  },
  {
   "cell_type": "markdown",
   "metadata": {},
   "source": [
    "### Ödev 3\n",
    "Kişinin fonksiyona doğum yılını vererek kaç yaşında olduğunu hesaplayan bir fonksiyon oluşturun. "
   ]
  },
  {
   "cell_type": "code",
   "execution_count": 64,
   "metadata": {},
   "outputs": [
    {
     "name": "stdout",
     "output_type": "stream",
     "text": [
      "Doğum yılınızı girin: 2001\n",
      "Doğum ayınızı girin: 12\n",
      "Doğum gününüzü girin: 22\n",
      "\n",
      "Yaşınız: 23\n"
     ]
    }
   ],
   "source": [
    "from datetime import datetime\n",
    "# Kullanıcının doğum tarihini al\n",
    "yil = int(input(\"Doğum yılınızı girin: \"))\n",
    "ay = int(input(\"Doğum ayınızı girin: \"))\n",
    "gun = int(input(\"Doğum gününüzü girin: \"))\n",
    "# Bugünün tarihini al\n",
    "bugun = datetime.now()\n",
    "# Yaşı hesapla\n",
    "yas = bugun.year - yil\n",
    "print(\"\\nYaşınız:\", yas)"
   ]
  },
  {
   "cell_type": "markdown",
   "metadata": {},
   "source": [
    "#### Ödev 4\n",
    "\n",
    "Doğum yılı ve isim bilgisi verilen fonksiyon kişinin emekli olup olmadığını söylesin.(Kişi 65 yaşında ise emekli olur.) Burada yaş hesabını yukarıdaki örnekteki fonksiyonu kullanarak yapsın.(Yani fonksiyon içinde fonksiyon kullanmanızı istiyorum :)) Kişi 65 yaşında ya da daha fazlaysa \"Emekli oldunuz\" yanıtını, 65 yaşından küçükse emekliliğine kaç yıl kaldığını da hesaplayarak \"(isim) emekliliğine (yıl) kaldı.\" yanıtını versin."
   ]
  },
  {
   "cell_type": "code",
   "execution_count": 122,
   "metadata": {},
   "outputs": [
    {
     "name": "stdout",
     "output_type": "stream",
     "text": [
      "Doğum yılınızı girin: 2001\n",
      "İsminizi giriniz: ceyda\n",
      "\n",
      "Yaşınız: 23\n",
      "ceyda emekliliğine 42 yıl kaldı. \n"
     ]
    }
   ],
   "source": [
    "from datetime import datetime\n",
    "yil = int(input(\"Doğum yılınızı girin: \"))\n",
    "isim = str(input(\"İsminizi giriniz: \"))\n",
    "# Bugünün tarihini al\n",
    "bugun = datetime.now()\n",
    "# Yaşı hesapla\n",
    "yas = bugun.year - yil\n",
    "print(\"\\nYaşınız:\", yas)\n",
    "if yas == 65:\n",
    "    print(f\"{yas} yaşında olduğunuz için emekli oldunuz.\")\n",
    "    \n",
    "elif yas > 65:\n",
    "    print(f\"{yas} yaşında olduğunuz için emeklisiniz.\")\n",
    "        \n",
    "else:\n",
    "     def kalan():\n",
    "        kalan_yil = 65 - yas\n",
    "        return kalan_yil\n",
    "     print(f\"{isim} emekliliğine {kalan()} yıl kaldı. \")\n",
    "     \n",
    "                \n"
   ]
  },
  {
   "cell_type": "code",
   "execution_count": null,
   "metadata": {},
   "outputs": [],
   "source": []
  }
 ],
 "metadata": {
  "kernelspec": {
   "display_name": "Python 3",
   "language": "python",
   "name": "python3"
  },
  "language_info": {
   "codemirror_mode": {
    "name": "ipython",
    "version": 3
   },
   "file_extension": ".py",
   "mimetype": "text/x-python",
   "name": "python",
   "nbconvert_exporter": "python",
   "pygments_lexer": "ipython3",
   "version": "3.8.8"
  }
 },
 "nbformat": 4,
 "nbformat_minor": 2
}
