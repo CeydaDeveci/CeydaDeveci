{
 "cells": [
  {
   "cell_type": "markdown",
   "id": "032d81b2",
   "metadata": {},
   "source": [
    "# 1\n",
    "x = 3 ----> floata çevirelim. Çevirdikten sonra beri tipinide yazdıralım.\n",
    "\n",
    "y = 4.5 -----> integere çevirelim. Çevirdikten sonra beri tipinide yazdıralım.\n",
    "\n",
    "z = \"8\" -----> integera çevirelim. Çevirdikten sonra beri tipinide yazdıralım.\n",
    "\n",
    "a = \"12\" -----> floata çevirelim. Çevirdikten sonra beri tipinide yazdıralım.\n",
    "\n",
    "b = \"46.8\" ------> integera çevirelim. Çevirdikten sonra beri tipinide yazdıralım."
   ]
  },
  {
   "cell_type": "code",
   "execution_count": 4,
   "id": "f1b735c0",
   "metadata": {},
   "outputs": [
    {
     "name": "stdout",
     "output_type": "stream",
     "text": [
      "3.0\n"
     ]
    },
    {
     "data": {
      "text/plain": [
       "float"
      ]
     },
     "execution_count": 4,
     "metadata": {},
     "output_type": "execute_result"
    }
   ],
   "source": [
    "x = 3\n",
    "print(float(x))\n",
    "type(float(x))\n"
   ]
  },
  {
   "cell_type": "code",
   "execution_count": 5,
   "id": "50400ed3",
   "metadata": {},
   "outputs": [
    {
     "name": "stdout",
     "output_type": "stream",
     "text": [
      "4\n"
     ]
    },
    {
     "data": {
      "text/plain": [
       "int"
      ]
     },
     "execution_count": 5,
     "metadata": {},
     "output_type": "execute_result"
    }
   ],
   "source": [
    "y = 4.5 \n",
    "print(int(y))\n",
    "type(int(y))"
   ]
  },
  {
   "cell_type": "code",
   "execution_count": 6,
   "id": "7f7f3e7a",
   "metadata": {},
   "outputs": [
    {
     "name": "stdout",
     "output_type": "stream",
     "text": [
      "8\n"
     ]
    },
    {
     "data": {
      "text/plain": [
       "int"
      ]
     },
     "execution_count": 6,
     "metadata": {},
     "output_type": "execute_result"
    }
   ],
   "source": [
    "z = \"8\"\n",
    "print(int(z))\n",
    "type(int(z))"
   ]
  },
  {
   "cell_type": "code",
   "execution_count": 7,
   "id": "0cb603b6",
   "metadata": {},
   "outputs": [
    {
     "name": "stdout",
     "output_type": "stream",
     "text": [
      "12.0\n"
     ]
    },
    {
     "data": {
      "text/plain": [
       "float"
      ]
     },
     "execution_count": 7,
     "metadata": {},
     "output_type": "execute_result"
    }
   ],
   "source": [
    "a = \"12\"\n",
    "print(float(a))\n",
    "type(float(a))"
   ]
  },
  {
   "cell_type": "code",
   "execution_count": 17,
   "id": "9e3d1eb9",
   "metadata": {},
   "outputs": [
    {
     "data": {
      "text/plain": [
       "float"
      ]
     },
     "execution_count": 17,
     "metadata": {},
     "output_type": "execute_result"
    }
   ],
   "source": [
    "b = \"46.8\"\n",
    "float(b)\n",
    "type(float(b))"
   ]
  },
  {
   "cell_type": "markdown",
   "id": "95509718",
   "metadata": {},
   "source": [
    "# 2 \n",
    "İsimlerden oluşan üç değişkene yaş değerleri atanır. Belirlenen üç değişken birbiriyle karşılaştırma operatörleri ile karşılaştırılır. Bu karşılaştırmalara mantıksal operatörler de eklenir."
   ]
  },
  {
   "cell_type": "code",
   "execution_count": 28,
   "id": "50f77b4f",
   "metadata": {},
   "outputs": [
    {
     "name": "stdout",
     "output_type": "stream",
     "text": [
      "Selin Ceyda'ya ABLA demelidir.\n",
      "Ceyda Sıla'ya ABLA demelidir.\n",
      "Selin Sıla'ya ABLA demelidir.\n"
     ]
    }
   ],
   "source": [
    "Ceyda = 23 \n",
    "Selin = 11\n",
    "Sıla = 45 \n",
    "\n",
    "if Ceyda > Selin :\n",
    "    print(\"Selin Ceyda'ya ABLA demelidir.\")\n",
    "if Ceyda < Sıla :\n",
    "    print(\"Ceyda Sıla'ya ABLA demelidir.\")\n",
    "if Selin < Sıla :\n",
    "    print(\"Selin Sıla'ya ABLA demelidir.\")"
   ]
  },
  {
   "cell_type": "markdown",
   "id": "a1a0eb92",
   "metadata": {},
   "source": [
    "# 3\n",
    "Kullanıcıdan iki değer girmesini istenir. Girilen değerlerin toplama, çıkarma, çarpma, bölme sonuçlarını yazdırılır."
   ]
  },
  {
   "cell_type": "code",
   "execution_count": 64,
   "id": "c361e45a",
   "metadata": {},
   "outputs": [
    {
     "name": "stdout",
     "output_type": "stream",
     "text": [
      "Birinci değeri giriniz:\n",
      "5\n",
      "ikinci değeri giriniz:\n",
      "2\n",
      "Toplam : 7\n",
      "Çıkarma : 3\n",
      "Çarpma : 10\n",
      "Bölme : 2.5\n"
     ]
    }
   ],
   "source": [
    "print(\"Birinci değeri giriniz:\")\n",
    "x = int(input())\n",
    "\n",
    "print(\"ikinci değeri giriniz:\")\n",
    "y = int(input())\n",
    "\n",
    "print(\"Toplam :\", x + y)\n",
    "print(\"Çıkarma :\", x - y)\n",
    "print(\"Çarpma :\", x*y)\n",
    "print(\"Bölme :\", x/y)"
   ]
  },
  {
   "cell_type": "markdown",
   "id": "060b0bea",
   "metadata": {},
   "source": [
    "# 4\n",
    "Kullanıcıdan isim, yaş, şehir ve meslek bilgilerini istenir ve cevaplarını yazdırılır."
   ]
  },
  {
   "cell_type": "code",
   "execution_count": 70,
   "id": "6f5dea59",
   "metadata": {},
   "outputs": [
    {
     "name": "stdout",
     "output_type": "stream",
     "text": [
      "Adınızı giriniz:\n",
      "ceyda\n",
      "Yaşınızı giriniz:\n",
      "23\n",
      "Yaşadığınız Şehri giriniz:\n",
      "tekirdağ\n",
      "Mesleğinizi Giriniz:\n",
      "veri bilimci\n"
     ]
    }
   ],
   "source": [
    "print(\"Adınızı giriniz:\")\n",
    "İsim = str(input())\n",
    "\n",
    "print(\"Yaşınızı giriniz:\")\n",
    "Yas = int(input())\n",
    "\n",
    "print(\"Yaşadığınız Şehri giriniz:\")\n",
    "Sehir = str(input())\n",
    "      \n",
    "print(\"Mesleğinizi Giriniz:\")\n",
    "Meslek = str(input())\n",
    "\n",
    "\n"
   ]
  },
  {
   "cell_type": "markdown",
   "id": "55e1a34e",
   "metadata": {},
   "source": [
    "# 5\n",
    "\"Hi-Kod Veri Bilimi Atölyesi\" ifadesini bir değişkene tanımlanır.\n",
    "\n",
    "\n",
    " 1. İfadedeki her bir kelimeyi (\"Hi-Kod\", \"Veri\", \"Bilimi\", \"Atölyesi\") değişken içinden seçilir. \n",
    " 2. İfadeyi hepsini büyük harf olacak hale çevrilir. (\"HI-KOD VERİ BİLİMİ ATÖLYESİ\") \n",
    " 3. İfadeyi hepsini büyük harf olacak hale çevrilir.(\"hi-kod veri bilimi atölyesi\") \n",
    "\n",
    "\"0123456789\" ifadesindeki yalnızca çift sayıları ve yalnızca tek sayıları seçilir. (\"02468\", \"13579\")"
   ]
  },
  {
   "cell_type": "code",
   "execution_count": 83,
   "id": "0fc1bc40",
   "metadata": {},
   "outputs": [
    {
     "name": "stdout",
     "output_type": "stream",
     "text": [
      "['Hi-Kod', 'Veri', 'Bilimi', 'Atölyesi']\n",
      "HI-KOD VERI BILIMI ATÖLYESI\n",
      "hi-kod veri bilimi atölyesi\n"
     ]
    }
   ],
   "source": [
    "mesaj = \"Hi-Kod Veri Bilimi Atölyesi\"\n",
    "\n",
    "print(mesaj.split())\n",
    "print(mesaj.upper())\n",
    "print(mesaj.lower())"
   ]
  },
  {
   "cell_type": "code",
   "execution_count": 94,
   "id": "01f7d4db",
   "metadata": {},
   "outputs": [
    {
     "name": "stdout",
     "output_type": "stream",
     "text": [
      "Çift Sayilar: 02468\n",
      "Tek Sayilar: 13579\n"
     ]
    }
   ],
   "source": [
    "sayilar = \"0123456789\"\n",
    "cift_sayi = ''.join(sayi for sayi in sayilar if int(sayi) % 2 == 0)\n",
    "tek_sayi = ''.join(sayi for sayi in sayilar if int(sayi) % 2 != 0)\n",
    "\n",
    "print(f\"Çift Sayilar: {cift_sayi}\")\n",
    "print(f\"Tek Sayilar: {tek_sayi}\")"
   ]
  }
 ],
 "metadata": {
  "kernelspec": {
   "display_name": "Python 3",
   "language": "python",
   "name": "python3"
  },
  "language_info": {
   "codemirror_mode": {
    "name": "ipython",
    "version": 3
   },
   "file_extension": ".py",
   "mimetype": "text/x-python",
   "name": "python",
   "nbconvert_exporter": "python",
   "pygments_lexer": "ipython3",
   "version": "3.8.8"
  }
 },
 "nbformat": 4,
 "nbformat_minor": 5
}
